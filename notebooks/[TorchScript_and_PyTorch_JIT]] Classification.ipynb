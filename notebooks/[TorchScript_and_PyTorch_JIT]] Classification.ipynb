{
  "nbformat": 4,
  "nbformat_minor": 0,
  "metadata": {
    "accelerator": "GPU",
    "colab": {
      "name": "TorchScript and PyTorch JIT - Classification",
      "provenance": [],
      "collapsed_sections": []
    },
    "kernelspec": {
      "display_name": "Python 3",
      "name": "python3"
    }
  },
  "cells": [
    {
      "cell_type": "markdown",
      "metadata": {
        "id": "9Kn-pv35t0Yt"
      },
      "source": [
        "# **Chuẩn bị**"
      ]
    },
    {
      "cell_type": "markdown",
      "metadata": {
        "id": "PNtVa_jCuL0l"
      },
      "source": [
        "Kiểm tra GPU được cung cấp (nếu chưa mở GPU: Edit -> Notebook Settings -> Hardware Accelerator chọn GPU)"
      ]
    },
    {
      "cell_type": "code",
      "metadata": {
        "colab": {
          "base_uri": "https://localhost:8080/"
        },
        "id": "90pw7K44_8Yr",
        "outputId": "430318b1-b54d-4fbb-ca24-794e95e8fe76"
      },
      "source": [
        "!nvidia-smi"
      ],
      "execution_count": null,
      "outputs": [
        {
          "output_type": "stream",
          "text": [
            "Fri Jan  8 03:48:58 2021       \n",
            "+-----------------------------------------------------------------------------+\n",
            "| NVIDIA-SMI 460.27.04    Driver Version: 418.67       CUDA Version: 10.1     |\n",
            "|-------------------------------+----------------------+----------------------+\n",
            "| GPU  Name        Persistence-M| Bus-Id        Disp.A | Volatile Uncorr. ECC |\n",
            "| Fan  Temp  Perf  Pwr:Usage/Cap|         Memory-Usage | GPU-Util  Compute M. |\n",
            "|                               |                      |               MIG M. |\n",
            "|===============================+======================+======================|\n",
            "|   0  Tesla T4            Off  | 00000000:00:04.0 Off |                    0 |\n",
            "| N/A   65C    P8    10W /  70W |      0MiB / 15079MiB |      0%      Default |\n",
            "|                               |                      |                 ERR! |\n",
            "+-------------------------------+----------------------+----------------------+\n",
            "                                                                               \n",
            "+-----------------------------------------------------------------------------+\n",
            "| Processes:                                                                  |\n",
            "|  GPU   GI   CI        PID   Type   Process name                  GPU Memory |\n",
            "|        ID   ID                                                   Usage      |\n",
            "|=============================================================================|\n",
            "|  No running processes found                                                 |\n",
            "+-----------------------------------------------------------------------------+\n"
          ],
          "name": "stdout"
        }
      ]
    },
    {
      "cell_type": "code",
      "metadata": {
        "colab": {
          "base_uri": "https://localhost:8080/"
        },
        "id": "EZYaVHT1huZ7",
        "outputId": "51f44f9e-b591-4281-d0be-27ec57024eca"
      },
      "source": [
        "!nvcc -V"
      ],
      "execution_count": null,
      "outputs": [
        {
          "output_type": "stream",
          "text": [
            "nvcc: NVIDIA (R) Cuda compiler driver\n",
            "Copyright (c) 2005-2019 NVIDIA Corporation\n",
            "Built on Sun_Jul_28_19:07:16_PDT_2019\n",
            "Cuda compilation tools, release 10.1, V10.1.243\n"
          ],
          "name": "stdout"
        }
      ]
    },
    {
      "cell_type": "markdown",
      "metadata": {
        "id": "Asye4V85uQIq"
      },
      "source": [
        "Tải các tập tin cần thiết và chuẩn bị cấu trúc thư mục."
      ]
    },
    {
      "cell_type": "code",
      "metadata": {
        "colab": {
          "base_uri": "https://localhost:8080/"
        },
        "id": "bGwy1HqQEQ7p",
        "outputId": "b626ce8e-32c8-46bb-9a9b-5ac3330d4ca4"
      },
      "source": [
        "%cd /content/\n",
        "!rm -rf *\n",
        "!mkdir -p /content/src/build/\n",
        "%cd /content/src/\n",
        "\n",
        "from google_drive_downloader import GoogleDriveDownloader as gdd\n",
        "gdd.download_file_from_google_drive(file_id='1Iey_nn0xAQBOUiq8Ib8FQYSmB7ouCTtu',\n",
        "                                    dest_path='./data.zip',\n",
        "                                    unzip=True)\n",
        "!rm data.zip"
      ],
      "execution_count": null,
      "outputs": [
        {
          "output_type": "stream",
          "text": [
            "/content\n",
            "/content/src\n",
            "Downloading 1Iey_nn0xAQBOUiq8Ib8FQYSmB7ouCTtu into ./data.zip... Done.\n",
            "Unzipping...Done.\n"
          ],
          "name": "stdout"
        }
      ]
    },
    {
      "cell_type": "markdown",
      "metadata": {
        "id": "P8Vmo5t3u2Gh"
      },
      "source": [
        "Sau khi hoàn tất, cấu trúc thư mục bao gồm:\n",
        "- [src]:\n",
        "    - [build]: các tập tin cài đặt của Torch C++\n",
        "    - [test]: các ảnh mẫu\n",
        "    - paths.txt: đường dẫn đến các ảnh\n",
        "    - model_jit.pth: mô hình PyTorch đã được chuyển đổi sang TorchScript"
      ]
    },
    {
      "cell_type": "markdown",
      "metadata": {
        "id": "YRs67Duxm--A"
      },
      "source": [
        "#**PYTORCH**"
      ]
    },
    {
      "cell_type": "code",
      "metadata": {
        "colab": {
          "base_uri": "https://localhost:8080/"
        },
        "id": "CbocK9mStPgd",
        "outputId": "f79115c8-3071-450c-a27f-db6ee8a6c254"
      },
      "source": [
        "%cd /content/src"
      ],
      "execution_count": null,
      "outputs": [
        {
          "output_type": "stream",
          "text": [
            "/content/src\n"
          ],
          "name": "stdout"
        }
      ]
    },
    {
      "cell_type": "markdown",
      "metadata": {
        "id": "dWckX86VbBY8"
      },
      "source": [
        "Import các thư viện cần thiết"
      ]
    },
    {
      "cell_type": "code",
      "metadata": {
        "id": "z0MqmoEowA60"
      },
      "source": [
        "import torch\n",
        "import torch.nn as nn\n",
        "from torch.utils.data import DataLoader\n",
        "import torchvision.transforms as tf\n",
        "from PIL import Image\n",
        "import cv2\n",
        "import pandas as pd\n",
        "\n",
        "from time import time"
      ],
      "execution_count": null,
      "outputs": []
    },
    {
      "cell_type": "code",
      "metadata": {
        "id": "1Gkd1zfpvOJG"
      },
      "source": [
        "BATCH_SIZE = 32\n",
        "SCALE_SIZE = 300"
      ],
      "execution_count": null,
      "outputs": []
    },
    {
      "cell_type": "code",
      "metadata": {
        "id": "tTUAChE2zF2E"
      },
      "source": [
        "def process_image(im):\n",
        "    im = cv2.cvtColor(im, cv2.COLOR_BGR2RGB)\n",
        "    im = cv2.resize(im, (SCALE_SIZE, SCALE_SIZE), 0.0, 0.0, cv2.INTER_LINEAR)\n",
        "    return im\n",
        "\n",
        "class TestDataset:\n",
        "    def __init__(self, paths_txt='paths.txt'):\n",
        "        df = pd.read_csv(paths_txt, delimiter=' ', header=None)\n",
        "\n",
        "        self.data = list(df[0])\n",
        "\n",
        "        self.tf = tf.Compose([\n",
        "            tf.ToTensor(),\n",
        "            tf.Normalize(mean=[0.485, 0.456, 0.406], \n",
        "                         std=[0.229, 0.224, 0.225]),\n",
        "        ])\n",
        "\n",
        "    def __getitem__(self, i):\n",
        "        im = cv2.imread(self.data[i])\n",
        "        im = process_image(im)\n",
        "        im = self.tf(im)\n",
        "        return im\n",
        "\n",
        "    def __len__(self):\n",
        "        return len(self.data)\n",
        "\n",
        "dataset = TestDataset()\n",
        "dataloader = DataLoader(dataset, batch_size=BATCH_SIZE, shuffle=False, num_workers=0)"
      ],
      "execution_count": null,
      "outputs": []
    },
    {
      "cell_type": "code",
      "metadata": {
        "id": "zQhKjQzhsyxW",
        "colab": {
          "base_uri": "https://localhost:8080/"
        },
        "outputId": "9b4e5f8b-a830-4816-805b-1635194c1b3f"
      },
      "source": [
        "device = torch.device('cuda')\n",
        "\n",
        "script_model = torch.jit.load('model_jit.pth')\n",
        "script_model = script_model.to(device)\n",
        "script_model.eval()"
      ],
      "execution_count": null,
      "outputs": [
        {
          "output_type": "execute_result",
          "data": {
            "text/plain": [
              "RecursiveScriptModule(\n",
              "  original_name=BaseModel\n",
              "  (extractor): RecursiveScriptModule(\n",
              "    original_name=EfficientNetExtractor\n",
              "    (extractor): RecursiveScriptModule(\n",
              "      original_name=EfficientNet\n",
              "      (_conv_stem): RecursiveScriptModule(\n",
              "        original_name=Conv2dStaticSamePadding\n",
              "        (static_padding): RecursiveScriptModule(original_name=ZeroPad2d)\n",
              "      )\n",
              "      (_bn0): RecursiveScriptModule(original_name=BatchNorm2d)\n",
              "      (_blocks): RecursiveScriptModule(\n",
              "        original_name=ModuleList\n",
              "        (0): RecursiveScriptModule(\n",
              "          original_name=MBConvBlock\n",
              "          (_depthwise_conv): RecursiveScriptModule(\n",
              "            original_name=Conv2dStaticSamePadding\n",
              "            (static_padding): RecursiveScriptModule(original_name=ZeroPad2d)\n",
              "          )\n",
              "          (_bn1): RecursiveScriptModule(original_name=BatchNorm2d)\n",
              "          (_se_reduce): RecursiveScriptModule(\n",
              "            original_name=Conv2dStaticSamePadding\n",
              "            (static_padding): RecursiveScriptModule(original_name=Identity)\n",
              "          )\n",
              "          (_se_expand): RecursiveScriptModule(\n",
              "            original_name=Conv2dStaticSamePadding\n",
              "            (static_padding): RecursiveScriptModule(original_name=Identity)\n",
              "          )\n",
              "          (_project_conv): RecursiveScriptModule(\n",
              "            original_name=Conv2dStaticSamePadding\n",
              "            (static_padding): RecursiveScriptModule(original_name=Identity)\n",
              "          )\n",
              "          (_bn2): RecursiveScriptModule(original_name=BatchNorm2d)\n",
              "          (_swish): RecursiveScriptModule(original_name=Swish)\n",
              "        )\n",
              "        (1): RecursiveScriptModule(\n",
              "          original_name=MBConvBlock\n",
              "          (_expand_conv): RecursiveScriptModule(\n",
              "            original_name=Conv2dStaticSamePadding\n",
              "            (static_padding): RecursiveScriptModule(original_name=Identity)\n",
              "          )\n",
              "          (_bn0): RecursiveScriptModule(original_name=BatchNorm2d)\n",
              "          (_depthwise_conv): RecursiveScriptModule(\n",
              "            original_name=Conv2dStaticSamePadding\n",
              "            (static_padding): RecursiveScriptModule(original_name=ZeroPad2d)\n",
              "          )\n",
              "          (_bn1): RecursiveScriptModule(original_name=BatchNorm2d)\n",
              "          (_se_reduce): RecursiveScriptModule(\n",
              "            original_name=Conv2dStaticSamePadding\n",
              "            (static_padding): RecursiveScriptModule(original_name=Identity)\n",
              "          )\n",
              "          (_se_expand): RecursiveScriptModule(\n",
              "            original_name=Conv2dStaticSamePadding\n",
              "            (static_padding): RecursiveScriptModule(original_name=Identity)\n",
              "          )\n",
              "          (_project_conv): RecursiveScriptModule(\n",
              "            original_name=Conv2dStaticSamePadding\n",
              "            (static_padding): RecursiveScriptModule(original_name=Identity)\n",
              "          )\n",
              "          (_bn2): RecursiveScriptModule(original_name=BatchNorm2d)\n",
              "          (_swish): RecursiveScriptModule(original_name=Swish)\n",
              "        )\n",
              "        (2): RecursiveScriptModule(\n",
              "          original_name=MBConvBlock\n",
              "          (_expand_conv): RecursiveScriptModule(\n",
              "            original_name=Conv2dStaticSamePadding\n",
              "            (static_padding): RecursiveScriptModule(original_name=Identity)\n",
              "          )\n",
              "          (_bn0): RecursiveScriptModule(original_name=BatchNorm2d)\n",
              "          (_depthwise_conv): RecursiveScriptModule(\n",
              "            original_name=Conv2dStaticSamePadding\n",
              "            (static_padding): RecursiveScriptModule(original_name=ZeroPad2d)\n",
              "          )\n",
              "          (_bn1): RecursiveScriptModule(original_name=BatchNorm2d)\n",
              "          (_se_reduce): RecursiveScriptModule(\n",
              "            original_name=Conv2dStaticSamePadding\n",
              "            (static_padding): RecursiveScriptModule(original_name=Identity)\n",
              "          )\n",
              "          (_se_expand): RecursiveScriptModule(\n",
              "            original_name=Conv2dStaticSamePadding\n",
              "            (static_padding): RecursiveScriptModule(original_name=Identity)\n",
              "          )\n",
              "          (_project_conv): RecursiveScriptModule(\n",
              "            original_name=Conv2dStaticSamePadding\n",
              "            (static_padding): RecursiveScriptModule(original_name=Identity)\n",
              "          )\n",
              "          (_bn2): RecursiveScriptModule(original_name=BatchNorm2d)\n",
              "          (_swish): RecursiveScriptModule(original_name=Swish)\n",
              "        )\n",
              "        (3): RecursiveScriptModule(\n",
              "          original_name=MBConvBlock\n",
              "          (_expand_conv): RecursiveScriptModule(\n",
              "            original_name=Conv2dStaticSamePadding\n",
              "            (static_padding): RecursiveScriptModule(original_name=Identity)\n",
              "          )\n",
              "          (_bn0): RecursiveScriptModule(original_name=BatchNorm2d)\n",
              "          (_depthwise_conv): RecursiveScriptModule(\n",
              "            original_name=Conv2dStaticSamePadding\n",
              "            (static_padding): RecursiveScriptModule(original_name=ZeroPad2d)\n",
              "          )\n",
              "          (_bn1): RecursiveScriptModule(original_name=BatchNorm2d)\n",
              "          (_se_reduce): RecursiveScriptModule(\n",
              "            original_name=Conv2dStaticSamePadding\n",
              "            (static_padding): RecursiveScriptModule(original_name=Identity)\n",
              "          )\n",
              "          (_se_expand): RecursiveScriptModule(\n",
              "            original_name=Conv2dStaticSamePadding\n",
              "            (static_padding): RecursiveScriptModule(original_name=Identity)\n",
              "          )\n",
              "          (_project_conv): RecursiveScriptModule(\n",
              "            original_name=Conv2dStaticSamePadding\n",
              "            (static_padding): RecursiveScriptModule(original_name=Identity)\n",
              "          )\n",
              "          (_bn2): RecursiveScriptModule(original_name=BatchNorm2d)\n",
              "          (_swish): RecursiveScriptModule(original_name=Swish)\n",
              "        )\n",
              "        (4): RecursiveScriptModule(\n",
              "          original_name=MBConvBlock\n",
              "          (_expand_conv): RecursiveScriptModule(\n",
              "            original_name=Conv2dStaticSamePadding\n",
              "            (static_padding): RecursiveScriptModule(original_name=Identity)\n",
              "          )\n",
              "          (_bn0): RecursiveScriptModule(original_name=BatchNorm2d)\n",
              "          (_depthwise_conv): RecursiveScriptModule(\n",
              "            original_name=Conv2dStaticSamePadding\n",
              "            (static_padding): RecursiveScriptModule(original_name=ZeroPad2d)\n",
              "          )\n",
              "          (_bn1): RecursiveScriptModule(original_name=BatchNorm2d)\n",
              "          (_se_reduce): RecursiveScriptModule(\n",
              "            original_name=Conv2dStaticSamePadding\n",
              "            (static_padding): RecursiveScriptModule(original_name=Identity)\n",
              "          )\n",
              "          (_se_expand): RecursiveScriptModule(\n",
              "            original_name=Conv2dStaticSamePadding\n",
              "            (static_padding): RecursiveScriptModule(original_name=Identity)\n",
              "          )\n",
              "          (_project_conv): RecursiveScriptModule(\n",
              "            original_name=Conv2dStaticSamePadding\n",
              "            (static_padding): RecursiveScriptModule(original_name=Identity)\n",
              "          )\n",
              "          (_bn2): RecursiveScriptModule(original_name=BatchNorm2d)\n",
              "          (_swish): RecursiveScriptModule(original_name=Swish)\n",
              "        )\n",
              "        (5): RecursiveScriptModule(\n",
              "          original_name=MBConvBlock\n",
              "          (_expand_conv): RecursiveScriptModule(\n",
              "            original_name=Conv2dStaticSamePadding\n",
              "            (static_padding): RecursiveScriptModule(original_name=Identity)\n",
              "          )\n",
              "          (_bn0): RecursiveScriptModule(original_name=BatchNorm2d)\n",
              "          (_depthwise_conv): RecursiveScriptModule(\n",
              "            original_name=Conv2dStaticSamePadding\n",
              "            (static_padding): RecursiveScriptModule(original_name=ZeroPad2d)\n",
              "          )\n",
              "          (_bn1): RecursiveScriptModule(original_name=BatchNorm2d)\n",
              "          (_se_reduce): RecursiveScriptModule(\n",
              "            original_name=Conv2dStaticSamePadding\n",
              "            (static_padding): RecursiveScriptModule(original_name=Identity)\n",
              "          )\n",
              "          (_se_expand): RecursiveScriptModule(\n",
              "            original_name=Conv2dStaticSamePadding\n",
              "            (static_padding): RecursiveScriptModule(original_name=Identity)\n",
              "          )\n",
              "          (_project_conv): RecursiveScriptModule(\n",
              "            original_name=Conv2dStaticSamePadding\n",
              "            (static_padding): RecursiveScriptModule(original_name=Identity)\n",
              "          )\n",
              "          (_bn2): RecursiveScriptModule(original_name=BatchNorm2d)\n",
              "          (_swish): RecursiveScriptModule(original_name=Swish)\n",
              "        )\n",
              "        (6): RecursiveScriptModule(\n",
              "          original_name=MBConvBlock\n",
              "          (_expand_conv): RecursiveScriptModule(\n",
              "            original_name=Conv2dStaticSamePadding\n",
              "            (static_padding): RecursiveScriptModule(original_name=Identity)\n",
              "          )\n",
              "          (_bn0): RecursiveScriptModule(original_name=BatchNorm2d)\n",
              "          (_depthwise_conv): RecursiveScriptModule(\n",
              "            original_name=Conv2dStaticSamePadding\n",
              "            (static_padding): RecursiveScriptModule(original_name=ZeroPad2d)\n",
              "          )\n",
              "          (_bn1): RecursiveScriptModule(original_name=BatchNorm2d)\n",
              "          (_se_reduce): RecursiveScriptModule(\n",
              "            original_name=Conv2dStaticSamePadding\n",
              "            (static_padding): RecursiveScriptModule(original_name=Identity)\n",
              "          )\n",
              "          (_se_expand): RecursiveScriptModule(\n",
              "            original_name=Conv2dStaticSamePadding\n",
              "            (static_padding): RecursiveScriptModule(original_name=Identity)\n",
              "          )\n",
              "          (_project_conv): RecursiveScriptModule(\n",
              "            original_name=Conv2dStaticSamePadding\n",
              "            (static_padding): RecursiveScriptModule(original_name=Identity)\n",
              "          )\n",
              "          (_bn2): RecursiveScriptModule(original_name=BatchNorm2d)\n",
              "          (_swish): RecursiveScriptModule(original_name=Swish)\n",
              "        )\n",
              "        (7): RecursiveScriptModule(\n",
              "          original_name=MBConvBlock\n",
              "          (_expand_conv): RecursiveScriptModule(\n",
              "            original_name=Conv2dStaticSamePadding\n",
              "            (static_padding): RecursiveScriptModule(original_name=Identity)\n",
              "          )\n",
              "          (_bn0): RecursiveScriptModule(original_name=BatchNorm2d)\n",
              "          (_depthwise_conv): RecursiveScriptModule(\n",
              "            original_name=Conv2dStaticSamePadding\n",
              "            (static_padding): RecursiveScriptModule(original_name=ZeroPad2d)\n",
              "          )\n",
              "          (_bn1): RecursiveScriptModule(original_name=BatchNorm2d)\n",
              "          (_se_reduce): RecursiveScriptModule(\n",
              "            original_name=Conv2dStaticSamePadding\n",
              "            (static_padding): RecursiveScriptModule(original_name=Identity)\n",
              "          )\n",
              "          (_se_expand): RecursiveScriptModule(\n",
              "            original_name=Conv2dStaticSamePadding\n",
              "            (static_padding): RecursiveScriptModule(original_name=Identity)\n",
              "          )\n",
              "          (_project_conv): RecursiveScriptModule(\n",
              "            original_name=Conv2dStaticSamePadding\n",
              "            (static_padding): RecursiveScriptModule(original_name=Identity)\n",
              "          )\n",
              "          (_bn2): RecursiveScriptModule(original_name=BatchNorm2d)\n",
              "          (_swish): RecursiveScriptModule(original_name=Swish)\n",
              "        )\n",
              "        (8): RecursiveScriptModule(\n",
              "          original_name=MBConvBlock\n",
              "          (_expand_conv): RecursiveScriptModule(\n",
              "            original_name=Conv2dStaticSamePadding\n",
              "            (static_padding): RecursiveScriptModule(original_name=Identity)\n",
              "          )\n",
              "          (_bn0): RecursiveScriptModule(original_name=BatchNorm2d)\n",
              "          (_depthwise_conv): RecursiveScriptModule(\n",
              "            original_name=Conv2dStaticSamePadding\n",
              "            (static_padding): RecursiveScriptModule(original_name=ZeroPad2d)\n",
              "          )\n",
              "          (_bn1): RecursiveScriptModule(original_name=BatchNorm2d)\n",
              "          (_se_reduce): RecursiveScriptModule(\n",
              "            original_name=Conv2dStaticSamePadding\n",
              "            (static_padding): RecursiveScriptModule(original_name=Identity)\n",
              "          )\n",
              "          (_se_expand): RecursiveScriptModule(\n",
              "            original_name=Conv2dStaticSamePadding\n",
              "            (static_padding): RecursiveScriptModule(original_name=Identity)\n",
              "          )\n",
              "          (_project_conv): RecursiveScriptModule(\n",
              "            original_name=Conv2dStaticSamePadding\n",
              "            (static_padding): RecursiveScriptModule(original_name=Identity)\n",
              "          )\n",
              "          (_bn2): RecursiveScriptModule(original_name=BatchNorm2d)\n",
              "          (_swish): RecursiveScriptModule(original_name=Swish)\n",
              "        )\n",
              "        (9): RecursiveScriptModule(\n",
              "          original_name=MBConvBlock\n",
              "          (_expand_conv): RecursiveScriptModule(\n",
              "            original_name=Conv2dStaticSamePadding\n",
              "            (static_padding): RecursiveScriptModule(original_name=Identity)\n",
              "          )\n",
              "          (_bn0): RecursiveScriptModule(original_name=BatchNorm2d)\n",
              "          (_depthwise_conv): RecursiveScriptModule(\n",
              "            original_name=Conv2dStaticSamePadding\n",
              "            (static_padding): RecursiveScriptModule(original_name=ZeroPad2d)\n",
              "          )\n",
              "          (_bn1): RecursiveScriptModule(original_name=BatchNorm2d)\n",
              "          (_se_reduce): RecursiveScriptModule(\n",
              "            original_name=Conv2dStaticSamePadding\n",
              "            (static_padding): RecursiveScriptModule(original_name=Identity)\n",
              "          )\n",
              "          (_se_expand): RecursiveScriptModule(\n",
              "            original_name=Conv2dStaticSamePadding\n",
              "            (static_padding): RecursiveScriptModule(original_name=Identity)\n",
              "          )\n",
              "          (_project_conv): RecursiveScriptModule(\n",
              "            original_name=Conv2dStaticSamePadding\n",
              "            (static_padding): RecursiveScriptModule(original_name=Identity)\n",
              "          )\n",
              "          (_bn2): RecursiveScriptModule(original_name=BatchNorm2d)\n",
              "          (_swish): RecursiveScriptModule(original_name=Swish)\n",
              "        )\n",
              "        (10): RecursiveScriptModule(\n",
              "          original_name=MBConvBlock\n",
              "          (_expand_conv): RecursiveScriptModule(\n",
              "            original_name=Conv2dStaticSamePadding\n",
              "            (static_padding): RecursiveScriptModule(original_name=Identity)\n",
              "          )\n",
              "          (_bn0): RecursiveScriptModule(original_name=BatchNorm2d)\n",
              "          (_depthwise_conv): RecursiveScriptModule(\n",
              "            original_name=Conv2dStaticSamePadding\n",
              "            (static_padding): RecursiveScriptModule(original_name=ZeroPad2d)\n",
              "          )\n",
              "          (_bn1): RecursiveScriptModule(original_name=BatchNorm2d)\n",
              "          (_se_reduce): RecursiveScriptModule(\n",
              "            original_name=Conv2dStaticSamePadding\n",
              "            (static_padding): RecursiveScriptModule(original_name=Identity)\n",
              "          )\n",
              "          (_se_expand): RecursiveScriptModule(\n",
              "            original_name=Conv2dStaticSamePadding\n",
              "            (static_padding): RecursiveScriptModule(original_name=Identity)\n",
              "          )\n",
              "          (_project_conv): RecursiveScriptModule(\n",
              "            original_name=Conv2dStaticSamePadding\n",
              "            (static_padding): RecursiveScriptModule(original_name=Identity)\n",
              "          )\n",
              "          (_bn2): RecursiveScriptModule(original_name=BatchNorm2d)\n",
              "          (_swish): RecursiveScriptModule(original_name=Swish)\n",
              "        )\n",
              "        (11): RecursiveScriptModule(\n",
              "          original_name=MBConvBlock\n",
              "          (_expand_conv): RecursiveScriptModule(\n",
              "            original_name=Conv2dStaticSamePadding\n",
              "            (static_padding): RecursiveScriptModule(original_name=Identity)\n",
              "          )\n",
              "          (_bn0): RecursiveScriptModule(original_name=BatchNorm2d)\n",
              "          (_depthwise_conv): RecursiveScriptModule(\n",
              "            original_name=Conv2dStaticSamePadding\n",
              "            (static_padding): RecursiveScriptModule(original_name=ZeroPad2d)\n",
              "          )\n",
              "          (_bn1): RecursiveScriptModule(original_name=BatchNorm2d)\n",
              "          (_se_reduce): RecursiveScriptModule(\n",
              "            original_name=Conv2dStaticSamePadding\n",
              "            (static_padding): RecursiveScriptModule(original_name=Identity)\n",
              "          )\n",
              "          (_se_expand): RecursiveScriptModule(\n",
              "            original_name=Conv2dStaticSamePadding\n",
              "            (static_padding): RecursiveScriptModule(original_name=Identity)\n",
              "          )\n",
              "          (_project_conv): RecursiveScriptModule(\n",
              "            original_name=Conv2dStaticSamePadding\n",
              "            (static_padding): RecursiveScriptModule(original_name=Identity)\n",
              "          )\n",
              "          (_bn2): RecursiveScriptModule(original_name=BatchNorm2d)\n",
              "          (_swish): RecursiveScriptModule(original_name=Swish)\n",
              "        )\n",
              "        (12): RecursiveScriptModule(\n",
              "          original_name=MBConvBlock\n",
              "          (_expand_conv): RecursiveScriptModule(\n",
              "            original_name=Conv2dStaticSamePadding\n",
              "            (static_padding): RecursiveScriptModule(original_name=Identity)\n",
              "          )\n",
              "          (_bn0): RecursiveScriptModule(original_name=BatchNorm2d)\n",
              "          (_depthwise_conv): RecursiveScriptModule(\n",
              "            original_name=Conv2dStaticSamePadding\n",
              "            (static_padding): RecursiveScriptModule(original_name=ZeroPad2d)\n",
              "          )\n",
              "          (_bn1): RecursiveScriptModule(original_name=BatchNorm2d)\n",
              "          (_se_reduce): RecursiveScriptModule(\n",
              "            original_name=Conv2dStaticSamePadding\n",
              "            (static_padding): RecursiveScriptModule(original_name=Identity)\n",
              "          )\n",
              "          (_se_expand): RecursiveScriptModule(\n",
              "            original_name=Conv2dStaticSamePadding\n",
              "            (static_padding): RecursiveScriptModule(original_name=Identity)\n",
              "          )\n",
              "          (_project_conv): RecursiveScriptModule(\n",
              "            original_name=Conv2dStaticSamePadding\n",
              "            (static_padding): RecursiveScriptModule(original_name=Identity)\n",
              "          )\n",
              "          (_bn2): RecursiveScriptModule(original_name=BatchNorm2d)\n",
              "          (_swish): RecursiveScriptModule(original_name=Swish)\n",
              "        )\n",
              "        (13): RecursiveScriptModule(\n",
              "          original_name=MBConvBlock\n",
              "          (_expand_conv): RecursiveScriptModule(\n",
              "            original_name=Conv2dStaticSamePadding\n",
              "            (static_padding): RecursiveScriptModule(original_name=Identity)\n",
              "          )\n",
              "          (_bn0): RecursiveScriptModule(original_name=BatchNorm2d)\n",
              "          (_depthwise_conv): RecursiveScriptModule(\n",
              "            original_name=Conv2dStaticSamePadding\n",
              "            (static_padding): RecursiveScriptModule(original_name=ZeroPad2d)\n",
              "          )\n",
              "          (_bn1): RecursiveScriptModule(original_name=BatchNorm2d)\n",
              "          (_se_reduce): RecursiveScriptModule(\n",
              "            original_name=Conv2dStaticSamePadding\n",
              "            (static_padding): RecursiveScriptModule(original_name=Identity)\n",
              "          )\n",
              "          (_se_expand): RecursiveScriptModule(\n",
              "            original_name=Conv2dStaticSamePadding\n",
              "            (static_padding): RecursiveScriptModule(original_name=Identity)\n",
              "          )\n",
              "          (_project_conv): RecursiveScriptModule(\n",
              "            original_name=Conv2dStaticSamePadding\n",
              "            (static_padding): RecursiveScriptModule(original_name=Identity)\n",
              "          )\n",
              "          (_bn2): RecursiveScriptModule(original_name=BatchNorm2d)\n",
              "          (_swish): RecursiveScriptModule(original_name=Swish)\n",
              "        )\n",
              "        (14): RecursiveScriptModule(\n",
              "          original_name=MBConvBlock\n",
              "          (_expand_conv): RecursiveScriptModule(\n",
              "            original_name=Conv2dStaticSamePadding\n",
              "            (static_padding): RecursiveScriptModule(original_name=Identity)\n",
              "          )\n",
              "          (_bn0): RecursiveScriptModule(original_name=BatchNorm2d)\n",
              "          (_depthwise_conv): RecursiveScriptModule(\n",
              "            original_name=Conv2dStaticSamePadding\n",
              "            (static_padding): RecursiveScriptModule(original_name=ZeroPad2d)\n",
              "          )\n",
              "          (_bn1): RecursiveScriptModule(original_name=BatchNorm2d)\n",
              "          (_se_reduce): RecursiveScriptModule(\n",
              "            original_name=Conv2dStaticSamePadding\n",
              "            (static_padding): RecursiveScriptModule(original_name=Identity)\n",
              "          )\n",
              "          (_se_expand): RecursiveScriptModule(\n",
              "            original_name=Conv2dStaticSamePadding\n",
              "            (static_padding): RecursiveScriptModule(original_name=Identity)\n",
              "          )\n",
              "          (_project_conv): RecursiveScriptModule(\n",
              "            original_name=Conv2dStaticSamePadding\n",
              "            (static_padding): RecursiveScriptModule(original_name=Identity)\n",
              "          )\n",
              "          (_bn2): RecursiveScriptModule(original_name=BatchNorm2d)\n",
              "          (_swish): RecursiveScriptModule(original_name=Swish)\n",
              "        )\n",
              "        (15): RecursiveScriptModule(\n",
              "          original_name=MBConvBlock\n",
              "          (_expand_conv): RecursiveScriptModule(\n",
              "            original_name=Conv2dStaticSamePadding\n",
              "            (static_padding): RecursiveScriptModule(original_name=Identity)\n",
              "          )\n",
              "          (_bn0): RecursiveScriptModule(original_name=BatchNorm2d)\n",
              "          (_depthwise_conv): RecursiveScriptModule(\n",
              "            original_name=Conv2dStaticSamePadding\n",
              "            (static_padding): RecursiveScriptModule(original_name=ZeroPad2d)\n",
              "          )\n",
              "          (_bn1): RecursiveScriptModule(original_name=BatchNorm2d)\n",
              "          (_se_reduce): RecursiveScriptModule(\n",
              "            original_name=Conv2dStaticSamePadding\n",
              "            (static_padding): RecursiveScriptModule(original_name=Identity)\n",
              "          )\n",
              "          (_se_expand): RecursiveScriptModule(\n",
              "            original_name=Conv2dStaticSamePadding\n",
              "            (static_padding): RecursiveScriptModule(original_name=Identity)\n",
              "          )\n",
              "          (_project_conv): RecursiveScriptModule(\n",
              "            original_name=Conv2dStaticSamePadding\n",
              "            (static_padding): RecursiveScriptModule(original_name=Identity)\n",
              "          )\n",
              "          (_bn2): RecursiveScriptModule(original_name=BatchNorm2d)\n",
              "          (_swish): RecursiveScriptModule(original_name=Swish)\n",
              "        )\n",
              "      )\n",
              "      (_conv_head): RecursiveScriptModule(\n",
              "        original_name=Conv2dStaticSamePadding\n",
              "        (static_padding): RecursiveScriptModule(original_name=Identity)\n",
              "      )\n",
              "      (_bn1): RecursiveScriptModule(original_name=BatchNorm2d)\n",
              "      (_avg_pooling): RecursiveScriptModule(original_name=AdaptiveAvgPool2d)\n",
              "      (_dropout): RecursiveScriptModule(original_name=Dropout)\n",
              "      (_fc): RecursiveScriptModule(original_name=Linear)\n",
              "      (_swish): RecursiveScriptModule(original_name=Swish)\n",
              "    )\n",
              "  )\n",
              "  (classifier): RecursiveScriptModule(\n",
              "    original_name=Sequential\n",
              "    (0): RecursiveScriptModule(original_name=Linear)\n",
              "    (1): RecursiveScriptModule(original_name=Dropout)\n",
              "    (2): RecursiveScriptModule(original_name=BatchNorm1d)\n",
              "    (3): RecursiveScriptModule(original_name=ReLU)\n",
              "    (4): RecursiveScriptModule(original_name=Dropout)\n",
              "    (5): RecursiveScriptModule(original_name=Linear)\n",
              "  )\n",
              ")"
            ]
          },
          "metadata": {
            "tags": []
          },
          "execution_count": 8
        }
      ]
    },
    {
      "cell_type": "code",
      "metadata": {
        "colab": {
          "base_uri": "https://localhost:8080/"
        },
        "id": "a0S-Uv5Jy_B_",
        "outputId": "3f8ee18f-42a8-4f7a-e505-94860b8a0b08"
      },
      "source": [
        "# Warm up GPU(s)\n",
        "with torch.no_grad():\n",
        "    for batch in dataloader:\n",
        "        batch = batch.to(device)\n",
        "        script_model(batch)\n",
        "\n",
        "# Measure total time\n",
        "t1 = time()\n",
        "with torch.no_grad():\n",
        "    for batch in dataloader:\n",
        "        batch = batch.to(device)\n",
        "        script_model(batch)\n",
        "t2 = time()\n",
        "\n",
        "print(f\"Total time: {t2 - t1} second(s) (FPS: {len(dataloader.dataset) /(t2 - t1)})\")\n",
        "\n",
        "# Measure dataloading time\n",
        "t1 = time()\n",
        "with torch.no_grad():\n",
        "    for batch in dataloader:\n",
        "        batch = batch.to(device)\n",
        "t2 = time()\n",
        "\n",
        "print(f\"Dataloading time: {t2 - t1} second(s) (FPS: {len(dataloader.dataset) /(t2 - t1)})\")\n",
        "\n",
        "# Measure inference time\n",
        "with torch.no_grad():\n",
        "    t = 0\n",
        "    for batch in dataloader:\n",
        "        batch = batch.to(device)\n",
        "        t1 = time()\n",
        "        script_model(batch)\n",
        "        t2 = time()\n",
        "        t += t2 - t1\n",
        "\n",
        "print(f\"Inference time: {t} second(s) (FPS: {len(dataloader.dataset) / t})\")"
      ],
      "execution_count": null,
      "outputs": [
        {
          "output_type": "stream",
          "text": [
            "Total time: 11.899887561798096 second(s) (FPS: 86.13526763820283)\n",
            "Dataloading time: 11.577296495437622 second(s) (FPS: 88.53535023517206)\n",
            "Inference time: 0.2382047176361084 second(s) (FPS: 4303.021410204954)\n"
          ],
          "name": "stdout"
        }
      ]
    },
    {
      "cell_type": "markdown",
      "metadata": {
        "id": "A5LUjeDgm5y1"
      },
      "source": [
        "#**LIBTORCH** "
      ]
    },
    {
      "cell_type": "code",
      "metadata": {
        "id": "ybtgpKnynY6Z",
        "colab": {
          "base_uri": "https://localhost:8080/"
        },
        "outputId": "48058f3d-a6b7-4d07-d441-929b10491d6e"
      },
      "source": [
        "%cd /content/src"
      ],
      "execution_count": null,
      "outputs": [
        {
          "output_type": "stream",
          "text": [
            "/content/src\n"
          ],
          "name": "stdout"
        }
      ]
    },
    {
      "cell_type": "code",
      "metadata": {
        "id": "786cmBSqpV6W",
        "colab": {
          "base_uri": "https://localhost:8080/"
        },
        "outputId": "9dcaadac-535a-4460-ad1c-b9198fec0434"
      },
      "source": [
        "!sudo apt -qq install libgif-dev"
      ],
      "execution_count": null,
      "outputs": [
        {
          "output_type": "stream",
          "text": [
            "The following NEW packages will be installed:\n",
            "  libgif-dev\n",
            "0 upgraded, 1 newly installed, 0 to remove and 16 not upgraded.\n",
            "Need to get 20.6 kB of archives.\n",
            "After this operation, 97.3 kB of additional disk space will be used.\n",
            "debconf: unable to initialize frontend: Dialog\n",
            "debconf: (No usable dialog-like program is installed, so the dialog based frontend cannot be used. at /usr/share/perl5/Debconf/FrontEnd/Dialog.pm line 76, <> line 1.)\n",
            "debconf: falling back to frontend: Readline\n",
            "debconf: unable to initialize frontend: Readline\n",
            "debconf: (This frontend requires a controlling tty.)\n",
            "debconf: falling back to frontend: Teletype\n",
            "dpkg-preconfigure: unable to re-open stdin: \n",
            "Selecting previously unselected package libgif-dev.\n",
            "(Reading database ... 145483 files and directories currently installed.)\n",
            "Preparing to unpack .../libgif-dev_5.1.4-2ubuntu0.1_amd64.deb ...\n",
            "Unpacking libgif-dev (5.1.4-2ubuntu0.1) ...\n",
            "Setting up libgif-dev (5.1.4-2ubuntu0.1) ...\n"
          ],
          "name": "stdout"
        }
      ]
    },
    {
      "cell_type": "code",
      "metadata": {
        "id": "d03cS4qP_yb9"
      },
      "source": [
        "!wget https://download.pytorch.org/libtorch/nightly/cu101/libtorch-cxx11-abi-shared-with-deps-latest.zip -q\n",
        "!unzip -q libtorch-cxx11-abi-shared-with-deps-latest.zip"
      ],
      "execution_count": null,
      "outputs": []
    },
    {
      "cell_type": "code",
      "metadata": {
        "id": "gOiK6uSlAGKe",
        "colab": {
          "base_uri": "https://localhost:8080/"
        },
        "outputId": "37ad4d74-687a-4157-f885-a931af8b4354"
      },
      "source": [
        "%%shell\n",
        "cd /content/src/build/\n",
        "rm -rf  *\n",
        "cmake -DCMAKE_PREFIX_PATH=/content/src/libtorch .."
      ],
      "execution_count": null,
      "outputs": [
        {
          "output_type": "stream",
          "text": [
            "-- The C compiler identification is GNU 7.5.0\n",
            "-- The CXX compiler identification is GNU 7.5.0\n",
            "-- Check for working C compiler: /usr/bin/cc\n",
            "-- Check for working C compiler: /usr/bin/cc -- works\n",
            "-- Detecting C compiler ABI info\n",
            "-- Detecting C compiler ABI info - done\n",
            "-- Detecting C compile features\n",
            "-- Detecting C compile features - done\n",
            "-- Check for working CXX compiler: /usr/bin/c++\n",
            "-- Check for working CXX compiler: /usr/bin/c++ -- works\n",
            "-- Detecting CXX compiler ABI info\n",
            "-- Detecting CXX compiler ABI info - done\n",
            "-- Detecting CXX compile features\n",
            "-- Detecting CXX compile features - done\n",
            "-- Looking for pthread.h\n",
            "-- Looking for pthread.h - found\n",
            "-- Looking for pthread_create\n",
            "-- Looking for pthread_create - not found\n",
            "-- Looking for pthread_create in pthreads\n",
            "-- Looking for pthread_create in pthreads - not found\n",
            "-- Looking for pthread_create in pthread\n",
            "-- Looking for pthread_create in pthread - found\n",
            "-- Found Threads: TRUE  \n",
            "-- Found CUDA: /usr/local/cuda (found version \"10.1\") \n",
            "-- Caffe2: CUDA detected: 10.1\n",
            "-- Caffe2: CUDA nvcc is: /usr/local/cuda/bin/nvcc\n",
            "-- Caffe2: CUDA toolkit directory: /usr/local/cuda\n",
            "-- Caffe2: Header version is: 10.1\n",
            "-- Found CUDNN: /usr/lib/x86_64-linux-gnu/libcudnn.so  \n",
            "-- Found cuDNN: v7.6.5  (include: /usr/include, library: /usr/lib/x86_64-linux-gnu/libcudnn.so)\n",
            "-- Autodetected CUDA architecture(s):  7.5\n",
            "-- Added CUDA NVCC flags for: -gencode;arch=compute_75,code=sm_75\n",
            "-- Found Torch: /content/src/libtorch/lib/libtorch.so  \n",
            "-- Found OpenCV: /usr (found version \"3.2.0\") \n",
            "-- Found OpenCV: /usr (found version \"3.2.0\") found components:  core imgproc highgui \n",
            "-- Configuring done\n",
            "-- Generating done\n",
            "-- Build files have been written to: /content/src/build\n"
          ],
          "name": "stdout"
        },
        {
          "output_type": "execute_result",
          "data": {
            "text/plain": [
              ""
            ]
          },
          "metadata": {
            "tags": []
          },
          "execution_count": 30
        }
      ]
    },
    {
      "cell_type": "code",
      "metadata": {
        "colab": {
          "base_uri": "https://localhost:8080/"
        },
        "id": "ID5sSDc_Ak93",
        "outputId": "cee97c70-9104-42ce-a394-a8eb5a515642"
      },
      "source": [
        "%%writefile main.cpp\n",
        "#include <torch/torch.h>\n",
        "#include <torch/script.h>\n",
        "#include <opencv2/core.hpp>\n",
        "#include <opencv2/imgproc.hpp>\n",
        "#include <opencv2/highgui.hpp>\n",
        "\n",
        "#include <time.h>\n",
        "#include <codecvt>\n",
        "#include <locale>\n",
        "#include <cstddef>\n",
        "#include <cstdio>\n",
        "#include <vector>\n",
        "#include <chrono>\n",
        "#include <fstream>\n",
        "#include <iostream>\n",
        "#include <string>\n",
        "\n",
        "#define BATCH_SIZE 32\n",
        "#define SCALE_SIZE 300\n",
        "\n",
        "const at::Tensor MEAN = torch::tensor({0.485, 0.456, 0.406});\n",
        "const at::Tensor STD = torch::tensor({0.229, 0.224, 0.225});\n",
        "\n",
        "typedef std::pair<std::string, int> psi;\n",
        "\n",
        "std::vector<psi> convert(std::string infile)\n",
        "{\n",
        "    std::fstream fi;\n",
        "    fi.open(infile, std::fstream::in);\n",
        " \n",
        "    std::string filename;\n",
        "    int label;\n",
        "\n",
        "    std::vector<psi> results;\n",
        "\n",
        "    while (fi >> filename >> label)\n",
        "    {\n",
        "        results.push_back(psi(filename, label));\n",
        "    }\n",
        " \n",
        "    return results;\n",
        "}\n",
        "\n",
        "at::Tensor imageTransform(cv::Mat image)\n",
        "{\n",
        "    // Convert BGR to RGB\n",
        "    cv::cvtColor(image, image, cv::COLOR_BGR2RGB);\n",
        " \n",
        "    // Resize image\n",
        "    cv::Mat resizedImage;\n",
        "    cv::resize(image, resizedImage, cv::Size{SCALE_SIZE, SCALE_SIZE}, 0.0, 0.0, cv::INTER_LINEAR);\n",
        " \n",
        "    // Convert to tensor\n",
        "    at::Tensor image_tensor = torch::from_blob(resizedImage.data, {resizedImage.rows, resizedImage.cols, 3}, at::kByte);\n",
        "    image_tensor = image_tensor / 255.0f;\n",
        "\n",
        "    // Normalize\n",
        "    image_tensor = (image_tensor - MEAN) / STD;\n",
        " \n",
        "    // Transpose H, W, C -> C, H, W\n",
        "    image_tensor = image_tensor.permute({2, 0, 1});\n",
        "\n",
        "    return image_tensor;\n",
        "}\n",
        "\n",
        "class CustomDataset : public torch::data::Dataset<CustomDataset>\n",
        "{\n",
        "private:\n",
        "    // Declare 2 vectors of tensors for images and labels\n",
        "    std::vector<std::string> list_images; // list of path of images\n",
        "public:\n",
        "    // Constructor\n",
        "    CustomDataset(std::string paths_txt)\n",
        "    {\n",
        "        std::vector<psi> paths = convert(paths_txt);\n",
        "        for (int i = 0 ; i < paths.size(); i++) \n",
        "        {\n",
        "            list_images.push_back(paths.at(i).first);\n",
        "        }\n",
        "    };\n",
        "\n",
        "    // Override get() function to return tensor at location index\n",
        "    torch::data::Example<> get(size_t index) override\n",
        "    {\n",
        "        cv::Mat image = cv::imread(list_images.at(index), cv::IMREAD_ANYCOLOR);\n",
        "        torch::Tensor sample_img = imageTransform(image);\n",
        "        torch::Tensor sample_label = torch::zeros(1);\n",
        "        return {sample_img, sample_label};\n",
        "    };\n",
        "\n",
        "    // Return the length of data\n",
        "    torch::optional<size_t> size() const override\n",
        "    {\n",
        "        return list_images.size();\n",
        "    };\n",
        "};\n",
        "\n",
        "int main(int argc, char **argv)\n",
        "{\n",
        "    auto custom_dataset = CustomDataset(\"../paths.txt\").map(torch::data::transforms::Stack<>());\n",
        "    auto dataset_size = custom_dataset.size().value();\n",
        "\n",
        "    auto data_loader = torch::data::make_data_loader<torch::data::samplers::SequentialSampler>(\n",
        "        std::move(custom_dataset),\n",
        "        BATCH_SIZE\n",
        "    );\n",
        "\n",
        "    torch::Device device(torch::kCUDA);\n",
        "\n",
        "    torch::jit::script::Module module;\n",
        "    try\n",
        "    {\n",
        "        const std::string model_path{argv[1]};\n",
        "        module = torch::jit::load(model_path);\n",
        "        module.to(device);\n",
        "        module.eval();\n",
        "    }\n",
        "    catch (const c10::Error &e)\n",
        "    {\n",
        "        std::cerr << \"Error loading the model\\n\";\n",
        "        std::cerr << e.msg();\n",
        "        return -1;\n",
        "    }\n",
        "    \n",
        "    torch::NoGradGuard no_grad_guard;\n",
        " \n",
        "    // Warmup GPU(s)\n",
        "    for (int i = 0; i < 2; i++) {\n",
        "        for (torch::data::Example<>& batch: *data_loader) {\n",
        "            torch::Tensor data = batch.data;                // Tensor B C W H\n",
        "            std::vector<torch::jit::IValue> inputs;         // IValue \n",
        "            inputs.push_back(data.to(device));              // Tensor2IValue\n",
        "            module.forward(inputs).toTensor();\n",
        "        }\n",
        "    }\n",
        " \n",
        "    auto t1 = std::chrono::system_clock::now();\n",
        "    auto t2 = std::chrono::system_clock::now();\n",
        "    auto total_time = std::chrono::duration_cast<std::chrono::milliseconds>(t2 - t1).count();\n",
        " \n",
        "    // Measure total time\n",
        "    t1 = std::chrono::system_clock::now();\n",
        "    for (torch::data::Example<>& batch: *data_loader) {\n",
        "        torch::Tensor data = batch.data;                // Tensor B C W H\n",
        "        std::vector<torch::jit::IValue> inputs;         // IValue \n",
        "        inputs.push_back(data.to(device));              // Tensor2IValue\n",
        "        module.forward(inputs).toTensor();\n",
        "    }\n",
        "    t2 = std::chrono::system_clock::now();\n",
        " \n",
        "    total_time = std::chrono::duration_cast<std::chrono::milliseconds>(t2 - t1).count();\n",
        "    std::cerr << \"Total time: \" << total_time * 1.0 / 1000 << \" seconds\";\n",
        "    std::cerr << \" (FPS: \" << dataset_size / (total_time * 1.0 / 1000)  << \")\" << std::endl;\n",
        " \n",
        "    // Measure dataloading time\n",
        "    t1 = std::chrono::system_clock::now();\n",
        "    for (torch::data::Example<>& batch: *data_loader) {\n",
        "        torch::Tensor data = batch.data;                // Tensor B C W H\n",
        "        std::vector<torch::jit::IValue> inputs;         // IValue \n",
        "        inputs.push_back(data.to(device));              // Tensor2IValue\n",
        "    }\n",
        "    t2 = std::chrono::system_clock::now();\n",
        " \n",
        "    total_time = std::chrono::duration_cast<std::chrono::milliseconds>(t2 - t1).count();\n",
        "    std::cerr << \"Dataloading time: \" << total_time * 1.0 / 1000 << \" seconds\";\n",
        "    std::cerr << \" (FPS: \" << dataset_size / (total_time * 1.0 / 1000)  << \")\" << std::endl;\n",
        " \n",
        "    // Measure model inference time\n",
        "    total_time = 0;\n",
        "    for (torch::data::Example<>& batch: *data_loader) {\n",
        "        torch::Tensor data = batch.data;                // Tensor B C W H\n",
        "        std::vector<torch::jit::IValue> inputs;         // IValue \n",
        "        inputs.push_back(data.to(device));              // Tensor2IValue\n",
        "        t1 = std::chrono::system_clock::now();\n",
        "        module.forward(inputs).toTensor();\n",
        "        t2 = std::chrono::system_clock::now();\n",
        "        total_time += std::chrono::duration_cast<std::chrono::milliseconds>(t2 - t1).count();\n",
        "    }\n",
        "    std::cerr << \"Inference time: \" << total_time * 1.0 / 1000 << \" seconds\";\n",
        "    std::cerr << \" (FPS: \" << dataset_size / (total_time * 1.0 / 1000)  << \")\" << std::endl;\n",
        "\n",
        "    return 0;\n",
        "}"
      ],
      "execution_count": null,
      "outputs": [
        {
          "output_type": "stream",
          "text": [
            "Overwriting main.cpp\n"
          ],
          "name": "stdout"
        }
      ]
    },
    {
      "cell_type": "code",
      "metadata": {
        "colab": {
          "base_uri": "https://localhost:8080/"
        },
        "id": "5N9EBuOuAxYH",
        "outputId": "a535122b-0e1d-4c0e-d9a4-9c628c2ef6d6"
      },
      "source": [
        "%%writefile CMakeLists.txt\n",
        "cmake_minimum_required(VERSION 3.1)\n",
        "project(inference)\n",
        "\n",
        "find_package(Torch REQUIRED)\n",
        "find_package(OpenCV REQUIRED)\n",
        "find_package(OpenCV COMPONENTS core imgproc highgui REQUIRED)\n",
        "\n",
        "set(CMAKE_EXPORT_COMPILE_COMMANDS ON)\n",
        "    \n",
        "include_directories(${OpenCV_INCLUDE_DIRS})\n",
        "include_directories(${Torch_INCLUDE_DIRS})\n",
        "\n",
        "add_executable(run main.cpp)\n",
        "target_link_libraries(run ${TORCH_LIBRARIES} ${OpenCV_LIBRARIES})\n",
        "target_compile_features(run PUBLIC cxx_range_for)\n",
        "set_property(TARGET run PROPERTY CXX_STANDARD 14)"
      ],
      "execution_count": null,
      "outputs": [
        {
          "output_type": "stream",
          "text": [
            "Overwriting CMakeLists.txt\n"
          ],
          "name": "stdout"
        }
      ]
    },
    {
      "cell_type": "code",
      "metadata": {
        "colab": {
          "base_uri": "https://localhost:8080/"
        },
        "id": "Ysu-N_cVBB4r",
        "outputId": "4a9e5754-54d1-4874-fd90-01f47ffdbc59"
      },
      "source": [
        "%cd /content/src/build\n",
        "!make -j4\n",
        "%cd /content/src"
      ],
      "execution_count": null,
      "outputs": [
        {
          "output_type": "stream",
          "text": [
            "/content/src/build\n",
            "\u001b[35m\u001b[1mScanning dependencies of target run\u001b[0m\n",
            "[ 50%] \u001b[32mBuilding CXX object CMakeFiles/run.dir/main.cpp.o\u001b[0m\n",
            "[100%] \u001b[32m\u001b[1mLinking CXX executable run\u001b[0m\n",
            "[100%] Built target run\n",
            "/content/src\n"
          ],
          "name": "stdout"
        }
      ]
    },
    {
      "cell_type": "code",
      "metadata": {
        "colab": {
          "base_uri": "https://localhost:8080/"
        },
        "id": "OkIf_jxHvN7A",
        "outputId": "820205d0-45b8-4ec5-f8cc-f75c65a62a7e"
      },
      "source": [
        "%cd /content/src/build\n",
        "!./run ../model_jit.pth \n",
        "%cd /content/src"
      ],
      "execution_count": null,
      "outputs": [
        {
          "output_type": "stream",
          "text": [
            "/content/src/build\n",
            "Total time: 11.912 seconds (FPS: 86.0477)\n",
            "Dataloading time: 11.695 seconds (FPS: 87.6443)\n",
            "Inference time: 0.198 seconds (FPS: 5176.77)\n",
            "/content/src\n"
          ],
          "name": "stdout"
        }
      ]
    }
  ]
}